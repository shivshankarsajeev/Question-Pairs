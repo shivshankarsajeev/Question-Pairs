{
 "cells": [
  {
   "cell_type": "code",
   "execution_count": 1,
   "id": "3a5be3ae",
   "metadata": {},
   "outputs": [],
   "source": [
    "\n",
    "import numpy as np\n",
    "import pandas as pd\n",
    "import matplotlib.pyplot as plt\n",
    "import seaborn as sns"
   ]
  },
  {
   "cell_type": "code",
   "execution_count": 2,
   "id": "9eef3907",
   "metadata": {},
   "outputs": [],
   "source": [
    "import os \n",
    "for root, dirs, files in os.walk(os.getcwd()):\n",
    "    for file in files: \n",
    "        if 'train.csv' in file: \n",
    "            path = os.path.join(root, file)\n"
   ]
  },
  {
   "cell_type": "code",
   "execution_count": 3,
   "id": "f155c205",
   "metadata": {},
   "outputs": [
    {
     "data": {
      "text/html": [
       "<div>\n",
       "<style scoped>\n",
       "    .dataframe tbody tr th:only-of-type {\n",
       "        vertical-align: middle;\n",
       "    }\n",
       "\n",
       "    .dataframe tbody tr th {\n",
       "        vertical-align: top;\n",
       "    }\n",
       "\n",
       "    .dataframe thead th {\n",
       "        text-align: right;\n",
       "    }\n",
       "</style>\n",
       "<table border=\"1\" class=\"dataframe\">\n",
       "  <thead>\n",
       "    <tr style=\"text-align: right;\">\n",
       "      <th></th>\n",
       "      <th>id</th>\n",
       "      <th>qid1</th>\n",
       "      <th>qid2</th>\n",
       "      <th>question1</th>\n",
       "      <th>question2</th>\n",
       "      <th>is_duplicate</th>\n",
       "    </tr>\n",
       "  </thead>\n",
       "  <tbody>\n",
       "    <tr>\n",
       "      <th>357234</th>\n",
       "      <td>357234</td>\n",
       "      <td>486645</td>\n",
       "      <td>486646</td>\n",
       "      <td>What can I do rather than taking medicine when...</td>\n",
       "      <td>As a COC player, what would you say if playing...</td>\n",
       "      <td>0</td>\n",
       "    </tr>\n",
       "    <tr>\n",
       "      <th>69697</th>\n",
       "      <td>69697</td>\n",
       "      <td>120230</td>\n",
       "      <td>120231</td>\n",
       "      <td>I am working at a tele networking company as a...</td>\n",
       "      <td>Can I get a job in Network companies if I choo...</td>\n",
       "      <td>0</td>\n",
       "    </tr>\n",
       "    <tr>\n",
       "      <th>272973</th>\n",
       "      <td>272973</td>\n",
       "      <td>391343</td>\n",
       "      <td>391344</td>\n",
       "      <td>How much investment reqiured for poultry in ka...</td>\n",
       "      <td>What were the fatal foreign policy mistakes th...</td>\n",
       "      <td>0</td>\n",
       "    </tr>\n",
       "    <tr>\n",
       "      <th>57845</th>\n",
       "      <td>57845</td>\n",
       "      <td>101596</td>\n",
       "      <td>101597</td>\n",
       "      <td>How do I know if a person who can provoke angr...</td>\n",
       "      <td>Which emerging technologies have the potential...</td>\n",
       "      <td>0</td>\n",
       "    </tr>\n",
       "    <tr>\n",
       "      <th>175186</th>\n",
       "      <td>175186</td>\n",
       "      <td>269789</td>\n",
       "      <td>134204</td>\n",
       "      <td>What steps should be taken for better startup ...</td>\n",
       "      <td>What steps are to be taken to begin a startup?</td>\n",
       "      <td>1</td>\n",
       "    </tr>\n",
       "  </tbody>\n",
       "</table>\n",
       "</div>"
      ],
      "text/plain": [
       "            id    qid1    qid2  \\\n",
       "357234  357234  486645  486646   \n",
       "69697    69697  120230  120231   \n",
       "272973  272973  391343  391344   \n",
       "57845    57845  101596  101597   \n",
       "175186  175186  269789  134204   \n",
       "\n",
       "                                                question1  \\\n",
       "357234  What can I do rather than taking medicine when...   \n",
       "69697   I am working at a tele networking company as a...   \n",
       "272973  How much investment reqiured for poultry in ka...   \n",
       "57845   How do I know if a person who can provoke angr...   \n",
       "175186  What steps should be taken for better startup ...   \n",
       "\n",
       "                                                question2  is_duplicate  \n",
       "357234  As a COC player, what would you say if playing...             0  \n",
       "69697   Can I get a job in Network companies if I choo...             0  \n",
       "272973  What were the fatal foreign policy mistakes th...             0  \n",
       "57845   Which emerging technologies have the potential...             0  \n",
       "175186     What steps are to be taken to begin a startup?             1  "
      ]
     },
     "execution_count": 3,
     "metadata": {},
     "output_type": "execute_result"
    }
   ],
   "source": [
    "df=pd.read_csv(path)\n",
    "df.sample(5)"
   ]
  },
  {
   "cell_type": "code",
   "execution_count": 4,
   "id": "28bef91c",
   "metadata": {},
   "outputs": [
    {
     "data": {
      "text/plain": [
       "id              0\n",
       "qid1            0\n",
       "qid2            0\n",
       "question1       0\n",
       "question2       0\n",
       "is_duplicate    0\n",
       "dtype: int64"
      ]
     },
     "execution_count": 4,
     "metadata": {},
     "output_type": "execute_result"
    }
   ],
   "source": [
    "new_df=df.sample(30000)\n",
    "\n",
    "new_df.isnull().sum()"
   ]
  },
  {
   "cell_type": "code",
   "execution_count": 5,
   "id": "f5f1833d",
   "metadata": {},
   "outputs": [
    {
     "data": {
      "text/html": [
       "<div>\n",
       "<style scoped>\n",
       "    .dataframe tbody tr th:only-of-type {\n",
       "        vertical-align: middle;\n",
       "    }\n",
       "\n",
       "    .dataframe tbody tr th {\n",
       "        vertical-align: top;\n",
       "    }\n",
       "\n",
       "    .dataframe thead th {\n",
       "        text-align: right;\n",
       "    }\n",
       "</style>\n",
       "<table border=\"1\" class=\"dataframe\">\n",
       "  <thead>\n",
       "    <tr style=\"text-align: right;\">\n",
       "      <th></th>\n",
       "      <th>id</th>\n",
       "      <th>qid1</th>\n",
       "      <th>qid2</th>\n",
       "      <th>question1</th>\n",
       "      <th>question2</th>\n",
       "      <th>is_duplicate</th>\n",
       "    </tr>\n",
       "  </thead>\n",
       "  <tbody>\n",
       "    <tr>\n",
       "      <th>210776</th>\n",
       "      <td>210776</td>\n",
       "      <td>315428</td>\n",
       "      <td>315429</td>\n",
       "      <td>Where and how is the Rapture mentioned in the ...</td>\n",
       "      <td>Where is the Messiah mentioned in the Bible?</td>\n",
       "      <td>0</td>\n",
       "    </tr>\n",
       "    <tr>\n",
       "      <th>236884</th>\n",
       "      <td>236884</td>\n",
       "      <td>347913</td>\n",
       "      <td>347914</td>\n",
       "      <td>Which is the best NID coaching classes in Pune?</td>\n",
       "      <td>How did you feel when you realised you were a ...</td>\n",
       "      <td>0</td>\n",
       "    </tr>\n",
       "    <tr>\n",
       "      <th>277450</th>\n",
       "      <td>277450</td>\n",
       "      <td>396557</td>\n",
       "      <td>396558</td>\n",
       "      <td>How can you tell someone is in a gang?</td>\n",
       "      <td>How can I tell if someone is in a gang?</td>\n",
       "      <td>1</td>\n",
       "    </tr>\n",
       "    <tr>\n",
       "      <th>230906</th>\n",
       "      <td>230906</td>\n",
       "      <td>340575</td>\n",
       "      <td>164666</td>\n",
       "      <td>What is a good age to settle down and get marr...</td>\n",
       "      <td>When is a good time to get married for a man?</td>\n",
       "      <td>1</td>\n",
       "    </tr>\n",
       "    <tr>\n",
       "      <th>73349</th>\n",
       "      <td>73349</td>\n",
       "      <td>125868</td>\n",
       "      <td>125869</td>\n",
       "      <td>Why is the script in unity not allowing me to ...</td>\n",
       "      <td>Is my waist unusually wide for a man?</td>\n",
       "      <td>0</td>\n",
       "    </tr>\n",
       "  </tbody>\n",
       "</table>\n",
       "</div>"
      ],
      "text/plain": [
       "            id    qid1    qid2  \\\n",
       "210776  210776  315428  315429   \n",
       "236884  236884  347913  347914   \n",
       "277450  277450  396557  396558   \n",
       "230906  230906  340575  164666   \n",
       "73349    73349  125868  125869   \n",
       "\n",
       "                                                question1  \\\n",
       "210776  Where and how is the Rapture mentioned in the ...   \n",
       "236884    Which is the best NID coaching classes in Pune?   \n",
       "277450             How can you tell someone is in a gang?   \n",
       "230906  What is a good age to settle down and get marr...   \n",
       "73349   Why is the script in unity not allowing me to ...   \n",
       "\n",
       "                                                question2  is_duplicate  \n",
       "210776       Where is the Messiah mentioned in the Bible?             0  \n",
       "236884  How did you feel when you realised you were a ...             0  \n",
       "277450            How can I tell if someone is in a gang?             1  \n",
       "230906      When is a good time to get married for a man?             1  \n",
       "73349               Is my waist unusually wide for a man?             0  "
      ]
     },
     "execution_count": 5,
     "metadata": {},
     "output_type": "execute_result"
    }
   ],
   "source": [
    "new_df.head()"
   ]
  },
  {
   "cell_type": "code",
   "execution_count": 6,
   "id": "eb5f42d3",
   "metadata": {},
   "outputs": [
    {
     "data": {
      "text/html": [
       "<div>\n",
       "<style scoped>\n",
       "    .dataframe tbody tr th:only-of-type {\n",
       "        vertical-align: middle;\n",
       "    }\n",
       "\n",
       "    .dataframe tbody tr th {\n",
       "        vertical-align: top;\n",
       "    }\n",
       "\n",
       "    .dataframe thead th {\n",
       "        text-align: right;\n",
       "    }\n",
       "</style>\n",
       "<table border=\"1\" class=\"dataframe\">\n",
       "  <thead>\n",
       "    <tr style=\"text-align: right;\">\n",
       "      <th></th>\n",
       "      <th>question1</th>\n",
       "      <th>question2</th>\n",
       "    </tr>\n",
       "  </thead>\n",
       "  <tbody>\n",
       "    <tr>\n",
       "      <th>210776</th>\n",
       "      <td>Where and how is the Rapture mentioned in the ...</td>\n",
       "      <td>Where is the Messiah mentioned in the Bible?</td>\n",
       "    </tr>\n",
       "    <tr>\n",
       "      <th>236884</th>\n",
       "      <td>Which is the best NID coaching classes in Pune?</td>\n",
       "      <td>How did you feel when you realised you were a ...</td>\n",
       "    </tr>\n",
       "    <tr>\n",
       "      <th>277450</th>\n",
       "      <td>How can you tell someone is in a gang?</td>\n",
       "      <td>How can I tell if someone is in a gang?</td>\n",
       "    </tr>\n",
       "    <tr>\n",
       "      <th>230906</th>\n",
       "      <td>What is a good age to settle down and get marr...</td>\n",
       "      <td>When is a good time to get married for a man?</td>\n",
       "    </tr>\n",
       "    <tr>\n",
       "      <th>73349</th>\n",
       "      <td>Why is the script in unity not allowing me to ...</td>\n",
       "      <td>Is my waist unusually wide for a man?</td>\n",
       "    </tr>\n",
       "  </tbody>\n",
       "</table>\n",
       "</div>"
      ],
      "text/plain": [
       "                                                question1  \\\n",
       "210776  Where and how is the Rapture mentioned in the ...   \n",
       "236884    Which is the best NID coaching classes in Pune?   \n",
       "277450             How can you tell someone is in a gang?   \n",
       "230906  What is a good age to settle down and get marr...   \n",
       "73349   Why is the script in unity not allowing me to ...   \n",
       "\n",
       "                                                question2  \n",
       "210776       Where is the Messiah mentioned in the Bible?  \n",
       "236884  How did you feel when you realised you were a ...  \n",
       "277450            How can I tell if someone is in a gang?  \n",
       "230906      When is a good time to get married for a man?  \n",
       "73349               Is my waist unusually wide for a man?  "
      ]
     },
     "execution_count": 6,
     "metadata": {},
     "output_type": "execute_result"
    }
   ],
   "source": [
    "ques_df = new_df[['question1','question2']]\n",
    "ques_df.head()"
   ]
  },
  {
   "cell_type": "code",
   "execution_count": 7,
   "id": "9b690f39",
   "metadata": {},
   "outputs": [],
   "source": [
    "from sklearn.feature_extraction.text import CountVectorizer\n",
    "cv = CountVectorizer(max_features=3000)"
   ]
  },
  {
   "cell_type": "code",
   "execution_count": 8,
   "id": "ecc9574f",
   "metadata": {},
   "outputs": [],
   "source": [
    "questions=list(ques_df['question1']) + list(ques_df['question2'])\n",
    "q1_arr, q2_arr = np.vsplit(cv.fit_transform(questions).toarray(),2)"
   ]
  },
  {
   "cell_type": "code",
   "execution_count": 9,
   "id": "37c0f46a",
   "metadata": {},
   "outputs": [],
   "source": [
    "# x = np.arange(16.0).reshape(4, 4)\n",
    "# print(x)\n",
    "# print()\n",
    "# print(np.vsplit(x, 2))"
   ]
  },
  {
   "cell_type": "code",
   "execution_count": 15,
   "id": "012dfe14",
   "metadata": {},
   "outputs": [],
   "source": [
    "temp_df1 = pd.DataFrame(q1_arr, index=ques_df.index)\n",
    "temp_df2 = pd.DataFrame(q2_arr, index=ques_df.index)\n",
    "temp_df = pd.concat([temp_df1, temp_df2],axis=1)"
   ]
  },
  {
   "cell_type": "code",
   "execution_count": 16,
   "id": "7de86b87",
   "metadata": {},
   "outputs": [
    {
     "data": {
      "text/plain": [
       "(30000, 6000)"
      ]
     },
     "execution_count": 16,
     "metadata": {},
     "output_type": "execute_result"
    }
   ],
   "source": [
    "temp_df.shape"
   ]
  },
  {
   "cell_type": "code",
   "execution_count": 17,
   "id": "e56d866b",
   "metadata": {},
   "outputs": [],
   "source": [
    "temp_df['is_duplicate'] = new_df['is_duplicate']"
   ]
  },
  {
   "cell_type": "code",
   "execution_count": 18,
   "id": "89351564",
   "metadata": {},
   "outputs": [
    {
     "data": {
      "text/html": [
       "<div>\n",
       "<style scoped>\n",
       "    .dataframe tbody tr th:only-of-type {\n",
       "        vertical-align: middle;\n",
       "    }\n",
       "\n",
       "    .dataframe tbody tr th {\n",
       "        vertical-align: top;\n",
       "    }\n",
       "\n",
       "    .dataframe thead th {\n",
       "        text-align: right;\n",
       "    }\n",
       "</style>\n",
       "<table border=\"1\" class=\"dataframe\">\n",
       "  <thead>\n",
       "    <tr style=\"text-align: right;\">\n",
       "      <th></th>\n",
       "      <th>0</th>\n",
       "      <th>1</th>\n",
       "      <th>2</th>\n",
       "      <th>3</th>\n",
       "      <th>4</th>\n",
       "      <th>5</th>\n",
       "      <th>6</th>\n",
       "      <th>7</th>\n",
       "      <th>8</th>\n",
       "      <th>9</th>\n",
       "      <th>...</th>\n",
       "      <th>2991</th>\n",
       "      <th>2992</th>\n",
       "      <th>2993</th>\n",
       "      <th>2994</th>\n",
       "      <th>2995</th>\n",
       "      <th>2996</th>\n",
       "      <th>2997</th>\n",
       "      <th>2998</th>\n",
       "      <th>2999</th>\n",
       "      <th>is_duplicate</th>\n",
       "    </tr>\n",
       "  </thead>\n",
       "  <tbody>\n",
       "    <tr>\n",
       "      <th>210776</th>\n",
       "      <td>0</td>\n",
       "      <td>0</td>\n",
       "      <td>0</td>\n",
       "      <td>0</td>\n",
       "      <td>0</td>\n",
       "      <td>0</td>\n",
       "      <td>0</td>\n",
       "      <td>0</td>\n",
       "      <td>0</td>\n",
       "      <td>0</td>\n",
       "      <td>...</td>\n",
       "      <td>0</td>\n",
       "      <td>0</td>\n",
       "      <td>0</td>\n",
       "      <td>0</td>\n",
       "      <td>0</td>\n",
       "      <td>0</td>\n",
       "      <td>0</td>\n",
       "      <td>0</td>\n",
       "      <td>0</td>\n",
       "      <td>0</td>\n",
       "    </tr>\n",
       "    <tr>\n",
       "      <th>236884</th>\n",
       "      <td>0</td>\n",
       "      <td>0</td>\n",
       "      <td>0</td>\n",
       "      <td>0</td>\n",
       "      <td>0</td>\n",
       "      <td>0</td>\n",
       "      <td>0</td>\n",
       "      <td>0</td>\n",
       "      <td>0</td>\n",
       "      <td>0</td>\n",
       "      <td>...</td>\n",
       "      <td>3</td>\n",
       "      <td>0</td>\n",
       "      <td>0</td>\n",
       "      <td>0</td>\n",
       "      <td>0</td>\n",
       "      <td>0</td>\n",
       "      <td>0</td>\n",
       "      <td>0</td>\n",
       "      <td>0</td>\n",
       "      <td>0</td>\n",
       "    </tr>\n",
       "    <tr>\n",
       "      <th>277450</th>\n",
       "      <td>0</td>\n",
       "      <td>0</td>\n",
       "      <td>0</td>\n",
       "      <td>0</td>\n",
       "      <td>0</td>\n",
       "      <td>0</td>\n",
       "      <td>0</td>\n",
       "      <td>0</td>\n",
       "      <td>0</td>\n",
       "      <td>0</td>\n",
       "      <td>...</td>\n",
       "      <td>0</td>\n",
       "      <td>0</td>\n",
       "      <td>0</td>\n",
       "      <td>0</td>\n",
       "      <td>0</td>\n",
       "      <td>0</td>\n",
       "      <td>0</td>\n",
       "      <td>0</td>\n",
       "      <td>0</td>\n",
       "      <td>1</td>\n",
       "    </tr>\n",
       "    <tr>\n",
       "      <th>230906</th>\n",
       "      <td>0</td>\n",
       "      <td>0</td>\n",
       "      <td>0</td>\n",
       "      <td>0</td>\n",
       "      <td>0</td>\n",
       "      <td>0</td>\n",
       "      <td>0</td>\n",
       "      <td>0</td>\n",
       "      <td>0</td>\n",
       "      <td>0</td>\n",
       "      <td>...</td>\n",
       "      <td>0</td>\n",
       "      <td>0</td>\n",
       "      <td>0</td>\n",
       "      <td>0</td>\n",
       "      <td>0</td>\n",
       "      <td>0</td>\n",
       "      <td>0</td>\n",
       "      <td>0</td>\n",
       "      <td>0</td>\n",
       "      <td>1</td>\n",
       "    </tr>\n",
       "    <tr>\n",
       "      <th>73349</th>\n",
       "      <td>0</td>\n",
       "      <td>0</td>\n",
       "      <td>0</td>\n",
       "      <td>0</td>\n",
       "      <td>0</td>\n",
       "      <td>0</td>\n",
       "      <td>0</td>\n",
       "      <td>0</td>\n",
       "      <td>0</td>\n",
       "      <td>0</td>\n",
       "      <td>...</td>\n",
       "      <td>0</td>\n",
       "      <td>0</td>\n",
       "      <td>0</td>\n",
       "      <td>0</td>\n",
       "      <td>0</td>\n",
       "      <td>0</td>\n",
       "      <td>0</td>\n",
       "      <td>0</td>\n",
       "      <td>0</td>\n",
       "      <td>0</td>\n",
       "    </tr>\n",
       "  </tbody>\n",
       "</table>\n",
       "<p>5 rows × 6001 columns</p>\n",
       "</div>"
      ],
      "text/plain": [
       "        0  1  2  3  4  5  6  7  8  9  ...  2991  2992  2993  2994  2995  2996  \\\n",
       "210776  0  0  0  0  0  0  0  0  0  0  ...     0     0     0     0     0     0   \n",
       "236884  0  0  0  0  0  0  0  0  0  0  ...     3     0     0     0     0     0   \n",
       "277450  0  0  0  0  0  0  0  0  0  0  ...     0     0     0     0     0     0   \n",
       "230906  0  0  0  0  0  0  0  0  0  0  ...     0     0     0     0     0     0   \n",
       "73349   0  0  0  0  0  0  0  0  0  0  ...     0     0     0     0     0     0   \n",
       "\n",
       "        2997  2998  2999  is_duplicate  \n",
       "210776     0     0     0             0  \n",
       "236884     0     0     0             0  \n",
       "277450     0     0     0             1  \n",
       "230906     0     0     0             1  \n",
       "73349      0     0     0             0  \n",
       "\n",
       "[5 rows x 6001 columns]"
      ]
     },
     "execution_count": 18,
     "metadata": {},
     "output_type": "execute_result"
    }
   ],
   "source": [
    "temp_df.head()"
   ]
  },
  {
   "cell_type": "code",
   "execution_count": 19,
   "id": "5db8668e",
   "metadata": {},
   "outputs": [],
   "source": [
    "from sklearn.model_selection import train_test_split\n",
    "X_train, X_test, y_train, y_test = train_test_split(temp_df.iloc[:,0:-1].values,\n",
    "                                                    temp_df.iloc[:,-1].values, test_size=0.2,\n",
    "                                                    random_state=1)"
   ]
  },
  {
   "cell_type": "code",
   "execution_count": 21,
   "id": "692bea35",
   "metadata": {},
   "outputs": [
    {
     "data": {
      "text/plain": [
       "0.7398333333333333"
      ]
     },
     "execution_count": 21,
     "metadata": {},
     "output_type": "execute_result"
    }
   ],
   "source": [
    "from sklearn.ensemble import RandomForestClassifier\n",
    "from sklearn.metrics import accuracy_score\n",
    "rf = RandomForestClassifier()\n",
    "rf.fit(X_train, y_train)\n",
    "y_pred = rf.predict(X_test)\n",
    "accuracy_score(y_test, y_pred)"
   ]
  },
  {
   "cell_type": "code",
   "execution_count": 22,
   "id": "0ad167e9",
   "metadata": {},
   "outputs": [
    {
     "data": {
      "text/plain": [
       "0.7315"
      ]
     },
     "execution_count": 22,
     "metadata": {},
     "output_type": "execute_result"
    }
   ],
   "source": [
    "from xgboost import XGBClassifier\n",
    "xgb = XGBClassifier()\n",
    "xgb.fit(X_train,y_train)\n",
    "y_pred = xgb.predict(X_test)\n",
    "accuracy_score(y_test,y_pred)"
   ]
  },
  {
   "cell_type": "code",
   "execution_count": null,
   "id": "bbf872f7",
   "metadata": {},
   "outputs": [],
   "source": []
  }
 ],
 "metadata": {
  "kernelspec": {
   "display_name": ".venv",
   "language": "python",
   "name": "python3"
  },
  "language_info": {
   "codemirror_mode": {
    "name": "ipython",
    "version": 3
   },
   "file_extension": ".py",
   "mimetype": "text/x-python",
   "name": "python",
   "nbconvert_exporter": "python",
   "pygments_lexer": "ipython3",
   "version": "3.10.17"
  }
 },
 "nbformat": 4,
 "nbformat_minor": 5
}
