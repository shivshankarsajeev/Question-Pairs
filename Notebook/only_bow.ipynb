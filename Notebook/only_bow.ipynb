{
 "cells": [
  {
   "cell_type": "code",
   "execution_count": 1,
   "id": "3a5be3ae",
   "metadata": {},
   "outputs": [],
   "source": [
    "\n",
    "import numpy as np\n",
    "import pandas as pd\n",
    "import matplotlib.pyplot as plt\n",
    "import seaborn as sns"
   ]
  },
  {
   "cell_type": "code",
   "execution_count": 10,
   "id": "9eef3907",
   "metadata": {},
   "outputs": [],
   "source": [
    "import os \n",
    "for root, dirs, files in os.walk(os.getcwd()):\n",
    "    for file in files: \n",
    "        if 'train.csv' in file: \n",
    "            path = os.path.join(root, file)\n"
   ]
  },
  {
   "cell_type": "code",
   "execution_count": 11,
   "id": "f155c205",
   "metadata": {},
   "outputs": [
    {
     "data": {
      "text/html": [
       "<div>\n",
       "<style scoped>\n",
       "    .dataframe tbody tr th:only-of-type {\n",
       "        vertical-align: middle;\n",
       "    }\n",
       "\n",
       "    .dataframe tbody tr th {\n",
       "        vertical-align: top;\n",
       "    }\n",
       "\n",
       "    .dataframe thead th {\n",
       "        text-align: right;\n",
       "    }\n",
       "</style>\n",
       "<table border=\"1\" class=\"dataframe\">\n",
       "  <thead>\n",
       "    <tr style=\"text-align: right;\">\n",
       "      <th></th>\n",
       "      <th>id</th>\n",
       "      <th>qid1</th>\n",
       "      <th>qid2</th>\n",
       "      <th>question1</th>\n",
       "      <th>question2</th>\n",
       "      <th>is_duplicate</th>\n",
       "    </tr>\n",
       "  </thead>\n",
       "  <tbody>\n",
       "    <tr>\n",
       "      <th>132865</th>\n",
       "      <td>132865</td>\n",
       "      <td>3737</td>\n",
       "      <td>212666</td>\n",
       "      <td>What is Kaufmich.com?</td>\n",
       "      <td>What is adooylabs.com?</td>\n",
       "      <td>0</td>\n",
       "    </tr>\n",
       "    <tr>\n",
       "      <th>251290</th>\n",
       "      <td>251290</td>\n",
       "      <td>365363</td>\n",
       "      <td>365364</td>\n",
       "      <td>What is the best position for first time sex?</td>\n",
       "      <td>What are the best positions for first time ana...</td>\n",
       "      <td>0</td>\n",
       "    </tr>\n",
       "    <tr>\n",
       "      <th>333553</th>\n",
       "      <td>333553</td>\n",
       "      <td>161114</td>\n",
       "      <td>2531</td>\n",
       "      <td>How do I hack someones wifi network without th...</td>\n",
       "      <td>How do I can hack wifi?</td>\n",
       "      <td>1</td>\n",
       "    </tr>\n",
       "    <tr>\n",
       "      <th>302857</th>\n",
       "      <td>302857</td>\n",
       "      <td>425904</td>\n",
       "      <td>425905</td>\n",
       "      <td>If Robert Baratheon had known that Maester Aem...</td>\n",
       "      <td>Do you support nationalized \"use of force\" rul...</td>\n",
       "      <td>0</td>\n",
       "    </tr>\n",
       "    <tr>\n",
       "      <th>319744</th>\n",
       "      <td>319744</td>\n",
       "      <td>445197</td>\n",
       "      <td>445198</td>\n",
       "      <td>What are the macroeconomic impacts of demoneti...</td>\n",
       "      <td>How will demonetization impact property market?</td>\n",
       "      <td>0</td>\n",
       "    </tr>\n",
       "  </tbody>\n",
       "</table>\n",
       "</div>"
      ],
      "text/plain": [
       "            id    qid1    qid2  \\\n",
       "132865  132865    3737  212666   \n",
       "251290  251290  365363  365364   \n",
       "333553  333553  161114    2531   \n",
       "302857  302857  425904  425905   \n",
       "319744  319744  445197  445198   \n",
       "\n",
       "                                                question1  \\\n",
       "132865                              What is Kaufmich.com?   \n",
       "251290      What is the best position for first time sex?   \n",
       "333553  How do I hack someones wifi network without th...   \n",
       "302857  If Robert Baratheon had known that Maester Aem...   \n",
       "319744  What are the macroeconomic impacts of demoneti...   \n",
       "\n",
       "                                                question2  is_duplicate  \n",
       "132865                             What is adooylabs.com?             0  \n",
       "251290  What are the best positions for first time ana...             0  \n",
       "333553                            How do I can hack wifi?             1  \n",
       "302857  Do you support nationalized \"use of force\" rul...             0  \n",
       "319744    How will demonetization impact property market?             0  "
      ]
     },
     "execution_count": 11,
     "metadata": {},
     "output_type": "execute_result"
    }
   ],
   "source": [
    "df=pd.read_csv(path)\n",
    "df.sample(5)"
   ]
  },
  {
   "cell_type": "code",
   "execution_count": 13,
   "id": "28bef91c",
   "metadata": {},
   "outputs": [
    {
     "data": {
      "text/plain": [
       "id              0\n",
       "qid1            0\n",
       "qid2            0\n",
       "question1       0\n",
       "question2       0\n",
       "is_duplicate    0\n",
       "dtype: int64"
      ]
     },
     "execution_count": 13,
     "metadata": {},
     "output_type": "execute_result"
    }
   ],
   "source": [
    "new_df=df.sample(30000)\n",
    "\n",
    "new_df.isnull().sum()"
   ]
  },
  {
   "cell_type": "code",
   "execution_count": 14,
   "id": "f5f1833d",
   "metadata": {},
   "outputs": [
    {
     "data": {
      "text/html": [
       "<div>\n",
       "<style scoped>\n",
       "    .dataframe tbody tr th:only-of-type {\n",
       "        vertical-align: middle;\n",
       "    }\n",
       "\n",
       "    .dataframe tbody tr th {\n",
       "        vertical-align: top;\n",
       "    }\n",
       "\n",
       "    .dataframe thead th {\n",
       "        text-align: right;\n",
       "    }\n",
       "</style>\n",
       "<table border=\"1\" class=\"dataframe\">\n",
       "  <thead>\n",
       "    <tr style=\"text-align: right;\">\n",
       "      <th></th>\n",
       "      <th>id</th>\n",
       "      <th>qid1</th>\n",
       "      <th>qid2</th>\n",
       "      <th>question1</th>\n",
       "      <th>question2</th>\n",
       "      <th>is_duplicate</th>\n",
       "    </tr>\n",
       "  </thead>\n",
       "  <tbody>\n",
       "    <tr>\n",
       "      <th>130384</th>\n",
       "      <td>130384</td>\n",
       "      <td>209261</td>\n",
       "      <td>170404</td>\n",
       "      <td>How can I find a job at Google?</td>\n",
       "      <td>What should I do to land a job at Google? What...</td>\n",
       "      <td>0</td>\n",
       "    </tr>\n",
       "    <tr>\n",
       "      <th>165080</th>\n",
       "      <td>165080</td>\n",
       "      <td>256398</td>\n",
       "      <td>210111</td>\n",
       "      <td>Why are coral reefs beautiful?</td>\n",
       "      <td>What is a coral reef?</td>\n",
       "      <td>0</td>\n",
       "    </tr>\n",
       "    <tr>\n",
       "      <th>350827</th>\n",
       "      <td>350827</td>\n",
       "      <td>49404</td>\n",
       "      <td>479596</td>\n",
       "      <td>What is a suitable inpatient drug and alcohol ...</td>\n",
       "      <td>Which is a suitable inpatient drug and alcohol...</td>\n",
       "      <td>0</td>\n",
       "    </tr>\n",
       "    <tr>\n",
       "      <th>124479</th>\n",
       "      <td>124479</td>\n",
       "      <td>25162</td>\n",
       "      <td>26186</td>\n",
       "      <td>What are the safety precautions on handling sh...</td>\n",
       "      <td>What are the safety precautions on handling sh...</td>\n",
       "      <td>1</td>\n",
       "    </tr>\n",
       "    <tr>\n",
       "      <th>64468</th>\n",
       "      <td>64468</td>\n",
       "      <td>112029</td>\n",
       "      <td>112030</td>\n",
       "      <td>What is collection?</td>\n",
       "      <td>What are collective algorithms?</td>\n",
       "      <td>0</td>\n",
       "    </tr>\n",
       "  </tbody>\n",
       "</table>\n",
       "</div>"
      ],
      "text/plain": [
       "            id    qid1    qid2  \\\n",
       "130384  130384  209261  170404   \n",
       "165080  165080  256398  210111   \n",
       "350827  350827   49404  479596   \n",
       "124479  124479   25162   26186   \n",
       "64468    64468  112029  112030   \n",
       "\n",
       "                                                question1  \\\n",
       "130384                    How can I find a job at Google?   \n",
       "165080                     Why are coral reefs beautiful?   \n",
       "350827  What is a suitable inpatient drug and alcohol ...   \n",
       "124479  What are the safety precautions on handling sh...   \n",
       "64468                                 What is collection?   \n",
       "\n",
       "                                                question2  is_duplicate  \n",
       "130384  What should I do to land a job at Google? What...             0  \n",
       "165080                              What is a coral reef?             0  \n",
       "350827  Which is a suitable inpatient drug and alcohol...             0  \n",
       "124479  What are the safety precautions on handling sh...             1  \n",
       "64468                     What are collective algorithms?             0  "
      ]
     },
     "execution_count": 14,
     "metadata": {},
     "output_type": "execute_result"
    }
   ],
   "source": [
    "new_df.head()"
   ]
  },
  {
   "cell_type": "code",
   "execution_count": 15,
   "id": "eb5f42d3",
   "metadata": {},
   "outputs": [
    {
     "data": {
      "text/html": [
       "<div>\n",
       "<style scoped>\n",
       "    .dataframe tbody tr th:only-of-type {\n",
       "        vertical-align: middle;\n",
       "    }\n",
       "\n",
       "    .dataframe tbody tr th {\n",
       "        vertical-align: top;\n",
       "    }\n",
       "\n",
       "    .dataframe thead th {\n",
       "        text-align: right;\n",
       "    }\n",
       "</style>\n",
       "<table border=\"1\" class=\"dataframe\">\n",
       "  <thead>\n",
       "    <tr style=\"text-align: right;\">\n",
       "      <th></th>\n",
       "      <th>question1</th>\n",
       "      <th>question2</th>\n",
       "    </tr>\n",
       "  </thead>\n",
       "  <tbody>\n",
       "    <tr>\n",
       "      <th>130384</th>\n",
       "      <td>How can I find a job at Google?</td>\n",
       "      <td>What should I do to land a job at Google? What...</td>\n",
       "    </tr>\n",
       "    <tr>\n",
       "      <th>165080</th>\n",
       "      <td>Why are coral reefs beautiful?</td>\n",
       "      <td>What is a coral reef?</td>\n",
       "    </tr>\n",
       "    <tr>\n",
       "      <th>350827</th>\n",
       "      <td>What is a suitable inpatient drug and alcohol ...</td>\n",
       "      <td>Which is a suitable inpatient drug and alcohol...</td>\n",
       "    </tr>\n",
       "    <tr>\n",
       "      <th>124479</th>\n",
       "      <td>What are the safety precautions on handling sh...</td>\n",
       "      <td>What are the safety precautions on handling sh...</td>\n",
       "    </tr>\n",
       "    <tr>\n",
       "      <th>64468</th>\n",
       "      <td>What is collection?</td>\n",
       "      <td>What are collective algorithms?</td>\n",
       "    </tr>\n",
       "  </tbody>\n",
       "</table>\n",
       "</div>"
      ],
      "text/plain": [
       "                                                question1  \\\n",
       "130384                    How can I find a job at Google?   \n",
       "165080                     Why are coral reefs beautiful?   \n",
       "350827  What is a suitable inpatient drug and alcohol ...   \n",
       "124479  What are the safety precautions on handling sh...   \n",
       "64468                                 What is collection?   \n",
       "\n",
       "                                                question2  \n",
       "130384  What should I do to land a job at Google? What...  \n",
       "165080                              What is a coral reef?  \n",
       "350827  Which is a suitable inpatient drug and alcohol...  \n",
       "124479  What are the safety precautions on handling sh...  \n",
       "64468                     What are collective algorithms?  "
      ]
     },
     "execution_count": 15,
     "metadata": {},
     "output_type": "execute_result"
    }
   ],
   "source": [
    "ques_df = new_df[['question1','question2']]\n",
    "ques_df.head()"
   ]
  },
  {
   "cell_type": "code",
   "execution_count": 16,
   "id": "9b690f39",
   "metadata": {},
   "outputs": [],
   "source": [
    "from sklearn.feature_extraction.text import CountVectorizer\n",
    "cv = CountVectorizer(max_features=3000)"
   ]
  },
  {
   "cell_type": "code",
   "execution_count": 29,
   "id": "ecc9574f",
   "metadata": {},
   "outputs": [],
   "source": [
    "questions=list(ques_df['question1']) + list(ques_df['question2'])\n",
    "q1_arr, q2_arr = np.vsplit(cv.fit_transform(questions).toarray(),2)"
   ]
  },
  {
   "cell_type": "code",
   "execution_count": 28,
   "id": "37c0f46a",
   "metadata": {},
   "outputs": [],
   "source": [
    "# x = np.arange(16.0).reshape(4, 4)\n",
    "# print(x)\n",
    "# print()\n",
    "# print(np.vsplit(x, 2))"
   ]
  },
  {
   "cell_type": "code",
   "execution_count": null,
   "id": "012dfe14",
   "metadata": {},
   "outputs": [
    {
     "data": {
      "text/plain": [
       "[array([[0., 1., 2., 3.],\n",
       "        [4., 5., 6., 7.]]),\n",
       " array([[ 8.,  9., 10., 11.],\n",
       "        [12., 13., 14., 15.]])]"
      ]
     },
     "execution_count": 26,
     "metadata": {},
     "output_type": "execute_result"
    }
   ],
   "source": []
  },
  {
   "cell_type": "code",
   "execution_count": null,
   "id": "7de86b87",
   "metadata": {},
   "outputs": [],
   "source": []
  }
 ],
 "metadata": {
  "kernelspec": {
   "display_name": ".venv",
   "language": "python",
   "name": "python3"
  },
  "language_info": {
   "codemirror_mode": {
    "name": "ipython",
    "version": 3
   },
   "file_extension": ".py",
   "mimetype": "text/x-python",
   "name": "python",
   "nbconvert_exporter": "python",
   "pygments_lexer": "ipython3",
   "version": "3.10.17"
  }
 },
 "nbformat": 4,
 "nbformat_minor": 5
}
